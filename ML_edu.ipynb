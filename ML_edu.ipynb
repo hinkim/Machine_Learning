{
  "nbformat": 4,
  "nbformat_minor": 0,
  "metadata": {
    "colab": {
      "name": "ML_Edu",
      "provenance": [],
      "collapsed_sections": [],
      "include_colab_link": true
    },
    "kernelspec": {
      "name": "python3",
      "display_name": "Python 3"
    }
  },
  "cells": [
    {
      "cell_type": "markdown",
      "metadata": {
        "id": "view-in-github",
        "colab_type": "text"
      },
      "source": [
        "<a href=\"https://colab.research.google.com/github/hinkim/Machine_Learning/blob/master/ML_edu.ipynb\" target=\"_parent\"><img src=\"https://colab.research.google.com/assets/colab-badge.svg\" alt=\"Open In Colab\"/></a>"
      ]
    },
    {
      "cell_type": "markdown",
      "metadata": {
        "id": "whvLswUeQqsY",
        "colab_type": "text"
      },
      "source": [
        "## Check installation and version"
      ]
    },
    {
      "cell_type": "code",
      "metadata": {
        "id": "qTo5LVJ0PQim",
        "colab_type": "code",
        "colab": {
          "base_uri": "https://localhost:8080/",
          "height": 35
        },
        "outputId": "24593f0c-e18f-43fb-8641-069c34676fe9"
      },
      "source": [
        "import tensorflow as tf\n",
        "tf.__version__"
      ],
      "execution_count": 1,
      "outputs": [
        {
          "output_type": "execute_result",
          "data": {
            "text/plain": [
              "'1.15.0'"
            ]
          },
          "metadata": {
            "tags": []
          },
          "execution_count": 1
        }
      ]
    },
    {
      "cell_type": "markdown",
      "metadata": {
        "id": "InAOMIqFQwZw",
        "colab_type": "text"
      },
      "source": [
        "## TensorFlow Hello World!"
      ]
    },
    {
      "cell_type": "code",
      "metadata": {
        "id": "a6nH8gvMQcdY",
        "colab_type": "code",
        "colab": {
          "base_uri": "https://localhost:8080/",
          "height": 35
        },
        "outputId": "3ed5366b-46fd-4ed6-cb82-1ceecb2a2c71"
      },
      "source": [
        "# Create a constant op\n",
        "# This op is added as a node to the default graph\n",
        "# node 생성\n",
        "hello = tf.constant(\"Hello, TensorFlow!\")\n",
        "\n",
        "# session 생성\n",
        "# start a TF session\n",
        "sess = tf.Session()\n",
        "\n",
        "# session에서 hello node 실행\n",
        "# run the op and get result\n",
        "print(sess.run(hello))"
      ],
      "execution_count": 2,
      "outputs": [
        {
          "output_type": "stream",
          "text": [
            "b'Hello, TensorFlow!'\n"
          ],
          "name": "stdout"
        }
      ]
    },
    {
      "cell_type": "markdown",
      "metadata": {
        "id": "9pBfaK2URnAt",
        "colab_type": "text"
      },
      "source": [
        "## Computational Graph\n",
        "\n",
        "\n",
        "<img width=\"509\" alt=\"Tensorflow\" src=\"https://user-images.githubusercontent.com/51468250/67445021-34790200-f646-11e9-9ef7-2f147cc5373c.PNG\">\n",
        "\n"
      ]
    },
    {
      "cell_type": "code",
      "metadata": {
        "id": "HdsZoGPzRpqZ",
        "colab_type": "code",
        "colab": {}
      },
      "source": [
        "# 1. Build graph using TensorFlow operations\n",
        "node1 = tf.constant(3.0, tf.float32)\n",
        "node2 = tf.constant(4.0)\n",
        "node3 = tf.add(node1, node2)"
      ],
      "execution_count": 0,
      "outputs": []
    },
    {
      "cell_type": "code",
      "metadata": {
        "id": "aN8gtqZxR1YO",
        "colab_type": "code",
        "colab": {
          "base_uri": "https://localhost:8080/",
          "height": 74
        },
        "outputId": "575d5afe-e10d-4b3f-fd50-f34f986930f6"
      },
      "source": [
        "# 2. feed data and run graph (operation)\n",
        "print(\"node1: \", node1, \"node2: \", node2)\n",
        "print(\"node3: \", node3)"
      ],
      "execution_count": 4,
      "outputs": [
        {
          "output_type": "stream",
          "text": [
            "node1:  Tensor(\"Const_1:0\", shape=(), dtype=float32) node2:  Tensor(\"Const_2:0\", shape=(), dtype=float32)\n",
            "node3:  Tensor(\"Add:0\", shape=(), dtype=float32)\n"
          ],
          "name": "stdout"
        }
      ]
    },
    {
      "cell_type": "code",
      "metadata": {
        "id": "FsPPQe7FR-P_",
        "colab_type": "code",
        "colab": {
          "base_uri": "https://localhost:8080/",
          "height": 54
        },
        "outputId": "099e28f0-866a-4bdc-8652-fb89b2440fe8"
      },
      "source": [
        "# update varables in the graph (and return values)\n",
        "sess = tf.Session()\n",
        "print(\"sess.run(node1, node2): \", sess.run([node1, node2]))\n",
        "print(\"sess.run(node3): \", sess.run(node3))"
      ],
      "execution_count": 5,
      "outputs": [
        {
          "output_type": "stream",
          "text": [
            "sess.run(node1, node2):  [3.0, 4.0]\n",
            "sess.run(node3):  7.0\n"
          ],
          "name": "stdout"
        }
      ]
    },
    {
      "cell_type": "markdown",
      "metadata": {
        "id": "oeWL5pb4VmFI",
        "colab_type": "text"
      },
      "source": [
        "## Placeholder\n",
        "\n",
        "실행시킬 때 값을 넘겨주는 형식"
      ]
    },
    {
      "cell_type": "code",
      "metadata": {
        "id": "b4uKJd3DVn42",
        "colab_type": "code",
        "colab": {
          "base_uri": "https://localhost:8080/",
          "height": 54
        },
        "outputId": "53dcc4ef-4e2d-4034-f639-9342832c94d3"
      },
      "source": [
        "a = tf.placeholder(tf.float32)\n",
        "b = tf.placeholder(tf.float32)\n",
        "adder_node = a + b # + provides a shortcut for tf.add(a,b)\n",
        "\n",
        "print(sess.run(adder_node, feed_dict={a: 3, b: 4.5}))\n",
        "print(sess.run(adder_node, feed_dict={a: [1,3], b: [2,4]}))"
      ],
      "execution_count": 6,
      "outputs": [
        {
          "output_type": "stream",
          "text": [
            "7.5\n",
            "[3. 7.]\n"
          ],
          "name": "stdout"
        }
      ]
    },
    {
      "cell_type": "markdown",
      "metadata": {
        "id": "es2riYgVXuYq",
        "colab_type": "text"
      },
      "source": [
        "## Tensor Ranks, Shapes\n",
        "\n",
        "Ranks: 몇 차원의 array인가? \n",
        "\n",
        "<img width=\"452\" alt=\"Rank\" src=\"https://user-images.githubusercontent.com/51468250/67445803-2b3d6480-f649-11e9-91ab-9db8fae56ae4.PNG\">\n",
        "\n",
        "Shapes: 각각의 element에 몇 개씩 들어있는가?\n",
        "\n",
        "<img width=\"464\" alt=\"Shape\" src=\"https://user-images.githubusercontent.com/51468250/67445805-2b3d6480-f649-11e9-8d0d-28d9dfff37a6.PNG\">\n",
        "\n",
        "\n",
        "ex)\n",
        "\n",
        "t = [[1, 2, 3], [4, 5, 6], [7, 8, 9]]\n",
        "=> [3, 3]"
      ]
    },
    {
      "cell_type": "markdown",
      "metadata": {
        "id": "iddpo47HYlfC",
        "colab_type": "text"
      },
      "source": [
        "## Linear Regression\n",
        "### Linear하게 가설을 세운다는 것: 어떤 데이터가 있을 때 여기에 잘 맞는 linear한 선을 찾는 것, 어떤 것이 더 데이터에 잘 맞는 선일까, 이 선을 찾는 것이 학습을 하는 것\n",
        "\n",
        "H(x) = Wx + b\n",
        "\n",
        "\n",
        "## 어떤 가설이 좋은 것인가?\n",
        "### 실제 데이터와 가설이 나타내는 점과의 거리를 비교해서 거리가 짧은 것 => Cost function\n",
        "\n",
        "## Cost function (Loss function)\n",
        "### How fit the line to our (training) data\n",
        "\n",
        "## 학습\n",
        "### w, b를 조정해서 coss function을 minimize, 가장 작은 값이 되게 하는 것\n"
      ]
    },
    {
      "cell_type": "code",
      "metadata": {
        "id": "mrAAPuRbZ819",
        "colab_type": "code",
        "colab": {}
      },
      "source": [
        "# 1. Build graph using TF operations\n",
        "\n",
        "# X and Y data\n",
        "x_train = [1, 2, 3]\n",
        "y_train = [1, 2, 3]\n",
        "\n",
        "# Try to find values for W and b to compute y_data = x_data * W + b\n",
        "# We know that W should be 1 and b should be 0\n",
        "# But let TensorFlow figure it out\n",
        "# Variable: 학습하는 과정에서 Tensorflow가 변경시키는 값\n",
        "# 처음에 w, b값을 랜덤하게 1차원 array로 줌\n",
        "W = tf.Variable(tf.random_normal([1]), name=\"weight\")\n",
        "b = tf.Variable(tf.random_normal([1]), name=\"bias\")\n",
        "\n",
        "# Our hypothesis XW+b\n",
        "hypothesis = x_train * W + b"
      ],
      "execution_count": 0,
      "outputs": []
    },
    {
      "cell_type": "code",
      "metadata": {
        "id": "Z-uDWY-TiyBe",
        "colab_type": "code",
        "colab": {}
      },
      "source": [
        "# cost/loss function\n",
        "cost = tf.reduce_mean(tf.square(hypothesis - y_train))\n",
        "\n",
        "\n",
        "# optimizer\n",
        "optimizer = tf.train.GradientDescentOptimizer(learning_rate=0.01)\n",
        "train = optimizer.minimize(cost)"
      ],
      "execution_count": 0,
      "outputs": []
    },
    {
      "cell_type": "code",
      "metadata": {
        "id": "AsYgyA7LjmHN",
        "colab_type": "code",
        "colab": {
          "base_uri": "https://localhost:8080/",
          "height": 399
        },
        "outputId": "37551feb-528a-4bb3-f703-b7b544621f7a"
      },
      "source": [
        "# Launch the graph in a session.\n",
        "sess = tf.Session()\n",
        "\n",
        "# Initializes global variables in the graph.\n",
        "sess.run(tf.global_variables_initializer())\n",
        "\n",
        "# Fit the line\n",
        "for step in range(2001):\n",
        "  sess.run(train)\n",
        "  if step % 100 == 0:\n",
        "    print(step, sess.run(cost), sess.run(W), sess.run(b))"
      ],
      "execution_count": 9,
      "outputs": [
        {
          "output_type": "stream",
          "text": [
            "0 0.32028162 [1.0030866] [-0.5721018]\n",
            "100 0.020465186 [1.1661496] [-0.3777018]\n",
            "200 0.012646268 [1.1306101] [-0.2969076]\n",
            "300 0.007814606 [1.1026715] [-0.23339635]\n",
            "400 0.004828958 [1.0807091] [-0.18347079]\n",
            "500 0.002983996 [1.0634446] [-0.14422466]\n",
            "600 0.0018439307 [1.0498734] [-0.11337379]\n",
            "700 0.0011394335 [1.039205] [-0.08912207]\n",
            "800 0.00070410006 [1.0308186] [-0.07005789]\n",
            "900 0.00043509385 [1.0242263] [-0.05507192]\n",
            "1000 0.00026885775 [1.0190438] [-0.04329151]\n",
            "1100 0.00016613748 [1.0149702] [-0.03403098]\n",
            "1200 0.00010266373 [1.011768] [-0.02675139]\n",
            "1300 6.344064e-05 [1.0092508] [-0.02102907]\n",
            "1400 3.9201852e-05 [1.007272] [-0.01653077]\n",
            "1500 2.4224451e-05 [1.0057163] [-0.01299478]\n",
            "1600 1.4969805e-05 [1.0044937] [-0.01021512]\n",
            "1700 9.250473e-06 [1.0035325] [-0.00803011]\n",
            "1800 5.716185e-06 [1.002777] [-0.00631251]\n",
            "1900 3.5326857e-06 [1.0021831] [-0.00496238]\n",
            "2000 2.1834978e-06 [1.0017163] [-0.00390122]\n"
          ],
          "name": "stdout"
        }
      ]
    },
    {
      "cell_type": "code",
      "metadata": {
        "id": "9sp4wxgOlXuf",
        "colab_type": "code",
        "colab": {
          "base_uri": "https://localhost:8080/",
          "height": 399
        },
        "outputId": "e003d6da-6a0b-461a-c370-4497e93cb35e"
      },
      "source": [
        "# placeholders for a tensor that will be always fed using feed_dict\n",
        "X = tf.placeholder(tf.float32, shape=[None])\n",
        "Y = tf.placeholder(tf.float32, shape=[None])\n",
        "W = tf.Variable(tf.random_normal([1]), name=\"weight\")\n",
        "b = tf.Variable(tf.random_normal([1]), name=\"bias\")\n",
        "\n",
        "# Our hypothesis is X * W + b\n",
        "hypothesis = X * W + b\n",
        "\n",
        "# cost/loss function\n",
        "cost = tf.reduce_mean(tf.square(hypothesis - Y))\n",
        "\n",
        "# optimizer\n",
        "train = tf.train.GradientDescentOptimizer(learning_rate=0.01).minimize(cost)\n",
        "\n",
        "sess = tf.Session()\n",
        "\n",
        "sess.run(tf.global_variables_initializer())\n",
        "\n",
        "for step in range(2001):\n",
        "  _, cost_val, W_val, b_val = sess.run(\n",
        "      [train, cost, W, b], feed_dict={X: [1, 2, 3, 4, 5], Y: [2.1, 3.1, 4.1, 5.1, 6.1]}\n",
        "  )\n",
        "  \n",
        "  if step % 100 == 0:\n",
        "    print(step, cost_val, W_val, b_val)"
      ],
      "execution_count": 10,
      "outputs": [
        {
          "output_type": "stream",
          "text": [
            "0 43.412872 [-0.08347993] [-0.45086482]\n",
            "100 0.12561211 [1.2293205] [0.27207997]\n",
            "200 0.06380682 [1.1634408] [0.50992626]\n",
            "300 0.032411713 [1.1164873] [0.67944396]\n",
            "400 0.016464088 [1.0830225] [0.8002623]\n",
            "500 0.008363207 [1.0591716] [0.88637155]\n",
            "600 0.0042482377 [1.0421729] [0.94774306]\n",
            "700 0.0021579606 [1.0300573] [0.9914836]\n",
            "800 0.0010961725 [1.0214224] [1.0226582]\n",
            "900 0.00055682845 [1.0152682] [1.0448769]\n",
            "1000 0.00028285675 [1.010882] [1.0607125]\n",
            "1100 0.00014368803 [1.007756] [1.0719985]\n",
            "1200 7.2987554e-05 [1.0055279] [1.080043]\n",
            "1300 3.707467e-05 [1.0039397] [1.0857761]\n",
            "1400 1.8834053e-05 [1.002808] [1.0898621]\n",
            "1500 9.565597e-06 [1.0020012] [1.092775]\n",
            "1600 4.858891e-06 [1.0014262] [1.0948508]\n",
            "1700 2.467838e-06 [1.0010165] [1.09633]\n",
            "1800 1.2538724e-06 [1.0007244] [1.0973841]\n",
            "1900 6.3714623e-07 [1.0005164] [1.0981352]\n",
            "2000 3.239107e-07 [1.0003682] [1.0986706]\n"
          ],
          "name": "stdout"
        }
      ]
    },
    {
      "cell_type": "code",
      "metadata": {
        "id": "eGBybcdyrdKm",
        "colab_type": "code",
        "colab": {
          "base_uri": "https://localhost:8080/",
          "height": 72
        },
        "outputId": "af3f5662-ddc5-4434-f3dd-dbe5c492eb04"
      },
      "source": [
        "# Testing our model\n",
        "print(sess.run(hypothesis, feed_dict={X: [5]}))\n",
        "print(sess.run(hypothesis, feed_dict={X: [2.5]}))\n",
        "print(sess.run(hypothesis, feed_dict={X: [1.5, 3.5]}))\n"
      ],
      "execution_count": 11,
      "outputs": [
        {
          "output_type": "stream",
          "text": [
            "[6.1005116]\n",
            "[3.5995913]\n",
            "[2.5992231 4.5999594]\n"
          ],
          "name": "stdout"
        }
      ]
    },
    {
      "cell_type": "markdown",
      "metadata": {
        "id": "UrwIsw2orvjw",
        "colab_type": "text"
      },
      "source": [
        "## How to minimize cost\n",
        "\n",
        "<img width=\"278\" alt=\"descent\" src=\"https://user-images.githubusercontent.com/51468250/67454541-7bc2bb00-f665-11e9-8aa3-bd9fc673233e.PNG\">\n",
        "\n",
        "-> 미분, 2차원 곡선의 형태로 나타나는데 기울기가 양수면 왼쪽으로 w를 변경시키고, 기울기가 음수면 오른쪽으로 w를 변경시켜 minimum값으로 도달하게 함."
      ]
    },
    {
      "cell_type": "markdown",
      "metadata": {
        "id": "FZgVT39qOufF",
        "colab_type": "text"
      },
      "source": [
        "### cost function visualization"
      ]
    },
    {
      "cell_type": "code",
      "metadata": {
        "id": "N2lXRJS4G-Q_",
        "colab_type": "code",
        "colab": {}
      },
      "source": [
        "# H(x) = Wx\n",
        "import tensorflow as tf\n",
        "import matplotlib.pyplot as plt\n",
        "\n",
        "X = [1, 2, 3]\n",
        "Y = [1, 2, 3]\n",
        "\n",
        "W = tf.placeholder(tf.float32)\n",
        "\n",
        "# Our hypothesis for linear model X * W\n",
        "hypothesis = X * W"
      ],
      "execution_count": 0,
      "outputs": []
    },
    {
      "cell_type": "code",
      "metadata": {
        "id": "tmMi5xaHIdEI",
        "colab_type": "code",
        "colab": {}
      },
      "source": [
        "# cost/loss function\n",
        "cost = tf.reduce_mean(tf.square(hypothesis - Y))\n",
        "\n",
        "# Variables for plotting cost function\n",
        "W_val = []\n",
        "cost_val = []"
      ],
      "execution_count": 0,
      "outputs": []
    },
    {
      "cell_type": "code",
      "metadata": {
        "id": "9LUy-stQMA78",
        "colab_type": "code",
        "colab": {}
      },
      "source": [
        "# Launch the graph in a session.\n",
        "sess = tf.Session()\n",
        "sess.run(tf.global_variables_initializer())\n",
        "\n",
        "for i in range(-30, 50):\n",
        "  feed_W = i * 0.1\n",
        "  curr_cost, curr_W = sess.run([cost, W], feed_dict={W: feed_W})\n",
        "  W_val.append(curr_W)\n",
        "  cost_val.append(curr_cost)"
      ],
      "execution_count": 0,
      "outputs": []
    },
    {
      "cell_type": "code",
      "metadata": {
        "id": "NSTw7LAbNKIk",
        "colab_type": "code",
        "colab": {
          "base_uri": "https://localhost:8080/",
          "height": 265
        },
        "outputId": "8c7c1f0b-e2e8-44ee-9f43-78e9792dc9cf"
      },
      "source": [
        "plt.plot(W_val, cost_val)\n",
        "plt.show()"
      ],
      "execution_count": 15,
      "outputs": [
        {
          "output_type": "display_data",
          "data": {
            "image/png": "[encoded data removed]",
            "text/plain": [
              "<Figure size 432x288 with 1 Axes>"
            ]
          },
          "metadata": {
            "tags": []
          }
        }
      ]
    },
    {
      "cell_type": "code",
      "metadata": {
        "id": "CW0WSd6MOznU",
        "colab_type": "code",
        "colab": {}
      },
      "source": [
        "x_data = [1, 2, 3]\n",
        "y_data = [1, 2, 3]\n",
        "\n",
        "W = tf.Variable(tf.random_normal([1]), name='weight')\n",
        "X = tf.placeholder(tf.float32)\n",
        "Y = tf.placeholder(tf.float32)\n",
        "\n",
        "# Our hypothesis for linear model X * W\n",
        "hypothesis = X * W"
      ],
      "execution_count": 0,
      "outputs": []
    },
    {
      "cell_type": "code",
      "metadata": {
        "id": "AIG3B_2rPQYM",
        "colab_type": "code",
        "colab": {}
      },
      "source": [
        "# cost/loss function\n",
        "cost = tf.reduce_mean(tf.square(hypothesis - Y))\n",
        "\n",
        "# Minimize: Gradient Descent using derivative: W -= Learning_rate * derivative\n",
        "learning_rate = 0.1\n",
        "gradient = tf.reduce_mean((W * X - Y) * X)\n",
        "descent = W - learning_rate * gradient\n",
        "update = W.assign(descent)  #W값 갱신 op"
      ],
      "execution_count": 0,
      "outputs": []
    },
    {
      "cell_type": "code",
      "metadata": {
        "id": "VEsiTZGSPxdO",
        "colab_type": "code",
        "colab": {
          "base_uri": "https://localhost:8080/",
          "height": 399
        },
        "outputId": "8718a0f6-fd1a-46f6-bcb7-b65ac6b639ef"
      },
      "source": [
        "# Launch the graph in a session.\n",
        "sess = tf.Session()\n",
        "sess.run(tf.global_variables_initializer())\n",
        "\n",
        "for step in range(21):\n",
        "  sess.run(update, feed_dict={X: x_data, Y: y_data})\n",
        "  print(step, sess.run(cost, feed_dict={X: x_data, Y: y_data}), sess.run(W))"
      ],
      "execution_count": 18,
      "outputs": [
        {
          "output_type": "stream",
          "text": [
            "0 0.632926 [0.6317243]\n",
            "1 0.18003221 [0.8035863]\n",
            "2 0.051209178 [0.895246]\n",
            "3 0.014566169 [0.9441312]\n",
            "4 0.0041432814 [0.9702033]\n",
            "5 0.0011785267 [0.98410845]\n",
            "6 0.00033522342 [0.9915245]\n",
            "7 9.535242e-05 [0.99547976]\n",
            "8 2.7121203e-05 [0.99758923]\n",
            "9 7.714342e-06 [0.99871427]\n",
            "10 2.1946053e-06 [0.99931425]\n",
            "11 6.2422004e-07 [0.99963427]\n",
            "12 1.7762981e-07 [0.9998049]\n",
            "13 5.056717e-08 [0.99989593]\n",
            "14 1.4363703e-08 [0.9999445]\n",
            "15 4.0987764e-09 [0.9999704]\n",
            "16 1.1661676e-09 [0.9999842]\n",
            "17 3.3061673e-10 [0.9999916]\n",
            "18 9.2727014e-11 [0.9999955]\n",
            "19 2.6526928e-11 [0.9999976]\n",
            "20 7.461883e-12 [0.99999875]\n"
          ],
          "name": "stdout"
        }
      ]
    },
    {
      "cell_type": "code",
      "metadata": {
        "id": "pM9ZiOW0Q4lJ",
        "colab_type": "code",
        "colab": {
          "base_uri": "https://localhost:8080/",
          "height": 399
        },
        "outputId": "c7d4c945-ab52-4beb-ab27-132259e0c9a1"
      },
      "source": [
        "sess = tf.Session()\n",
        "sess.run(tf.global_variables_initializer())\n",
        "\n",
        "for step in range(21):\n",
        "  cost_val, W_val, _ = sess.run([cost, W, update], feed_dict={X: x_data, Y: y_data})\n",
        "  print(step, cost_val, W_val)"
      ],
      "execution_count": 19,
      "outputs": [
        {
          "output_type": "stream",
          "text": [
            "0 22.088074 [-0.1603105]\n",
            "1 6.2828293 [0.3811677]\n",
            "2 1.7871157 [0.6699561]\n",
            "3 0.50833535 [0.8239766]\n",
            "4 0.14459313 [0.90612084]\n",
            "5 0.04112871 [0.9499311]\n",
            "6 0.011698854 [0.9732966]\n",
            "7 0.003327675 [0.9857582]\n",
            "8 0.0009465401 [0.9924044]\n",
            "9 0.00026923546 [0.99594903]\n",
            "10 7.658167e-05 [0.9978395]\n",
            "11 2.1782413e-05 [0.9988477]\n",
            "12 6.1961305e-06 [0.9993855]\n",
            "13 1.7621716e-06 [0.99967223]\n",
            "14 5.013033e-07 [0.9998252]\n",
            "15 1.4264435e-07 [0.9999068]\n",
            "16 4.0554635e-08 [0.9999503]\n",
            "17 1.1543709e-08 [0.9999735]\n",
            "18 3.286285e-09 [0.9999859]\n",
            "19 9.329296e-10 [0.9999925]\n",
            "20 2.6142763e-10 [0.999996]\n"
          ],
          "name": "stdout"
        }
      ]
    },
    {
      "cell_type": "code",
      "metadata": {
        "id": "kGOci_WUSWu1",
        "colab_type": "code",
        "colab": {
          "base_uri": "https://localhost:8080/",
          "height": 199
        },
        "outputId": "fae6f157-7dd1-494e-9d8c-4fa7b3f772fd"
      },
      "source": [
        "X = [1, 2, 3]\n",
        "Y = [1, 2, 3]\n",
        "\n",
        "W = tf.Variable(5.0)\n",
        "\n",
        "# Our hypothesis for linear model X * W\n",
        "hypothesis = X * W\n",
        "\n",
        "cost = tf.reduce_mean(tf.square(hypothesis - Y))\n",
        "\n",
        "optimizer = tf.train.GradientDescentOptimizer(learning_rate=0.1)\n",
        "train = optimizer.minimize(cost)\n",
        "\n",
        "sess = tf.Session()\n",
        "sess.run(tf.global_variables_initializer())\n",
        "\n",
        "for step in range(10):\n",
        "  W_val, _ = sess.run([W, train])\n",
        "  print(step, W_val)"
      ],
      "execution_count": 20,
      "outputs": [
        {
          "output_type": "stream",
          "text": [
            "0 1.2666664\n",
            "1 1.0177778\n",
            "2 1.0011852\n",
            "3 1.000079\n",
            "4 1.0000052\n",
            "5 1.0000004\n",
            "6 1.0\n",
            "7 1.0\n",
            "8 1.0\n",
            "9 1.0\n"
          ],
          "name": "stdout"
        }
      ]
    },
    {
      "cell_type": "markdown",
      "metadata": {
        "id": "Cy306iaRVDmF",
        "colab_type": "text"
      },
      "source": [
        "## Multi-varable linear regression\n",
        "\n",
        "H(x) = Wx + b\n",
        "\n",
        "H(x1,x2,x3) = w1x1 + w2x2 + w3x3 + b\n",
        "\n",
        "-> Matrix\n",
        "\n",
        "-> H(X) = XW"
      ]
    },
    {
      "cell_type": "code",
      "metadata": {
        "id": "p2s0EH3nfZSE",
        "colab_type": "code",
        "colab": {
          "base_uri": "https://localhost:8080/",
          "height": 617
        },
        "outputId": "114faa67-3d18-4fa0-eba4-e12d3a8b29a9"
      },
      "source": [
        "# 코드 복잡함 (사용 X)\n",
        "\n",
        "import tensorflow as tf\n",
        "tf.set_random_seed(777)  # for reproducibility\n",
        "\n",
        "x1_data = [73., 93., 89., 96., 73.]\n",
        "x2_data = [80., 88., 91., 98., 66.]\n",
        "x3_data = [75., 93., 90., 100., 70.]\n",
        "\n",
        "y_data = [152., 185., 180., 196., 142.]\n",
        "\n",
        "# placeholders for a tensor that will be always fed.\n",
        "x1 = tf.placeholder(tf.float32)\n",
        "x2 = tf.placeholder(tf.float32)\n",
        "x3 = tf.placeholder(tf.float32)\n",
        "\n",
        "Y = tf.placeholder(tf.float32)\n",
        "\n",
        "w1 = tf.Variable(tf.random_normal([1]), name='weight1')\n",
        "w2 = tf.Variable(tf.random_normal([1]), name='weight2')\n",
        "w3 = tf.Variable(tf.random_normal([1]), name='weight3')\n",
        "b = tf.Variable(tf.random_normal([1]), name='bias')\n",
        "\n",
        "hypothesis = x1 * w1 + x2 * w2 + x3 * w3 + b\n",
        "\n",
        "# cost/loss function\n",
        "cost = tf.reduce_mean(tf.square(hypothesis - Y))\n",
        "\n",
        "# Minimize. Need a very small learning rate for this data set\n",
        "optimizer = tf.train.GradientDescentOptimizer(learning_rate=1e-5)\n",
        "train = optimizer.minimize(cost)\n",
        "\n",
        "# Launch the graph in a session.\n",
        "sess = tf.Session()\n",
        "# Initializes global variables in the graph.\n",
        "sess.run(tf.global_variables_initializer())\n",
        "\n",
        "for step in range(2001):\n",
        "    cost_val, hy_val, _ = sess.run([cost, hypothesis, train],\n",
        "                                   feed_dict={x1: x1_data, x2: x2_data, x3: x3_data, Y: y_data})\n",
        "    if step % 200 == 0:\n",
        "        print(step, \"Cost: \", cost_val, \"\\nPrediction:\\n\", hy_val)\n"
      ],
      "execution_count": 21,
      "outputs": [
        {
          "output_type": "stream",
          "text": [
            "0 Cost:  3779.23 \n",
            "Prediction:\n",
            " [211.02502 246.67366 246.6029  267.2102  187.84448]\n",
            "200 Cost:  10.282494 \n",
            "Prediction:\n",
            " [156.30516 181.38615 182.02332 196.91463 138.14153]\n",
            "400 Cost:  9.241639 \n",
            "Prediction:\n",
            " [156.0633  181.55182 181.94904 196.86223 138.35779]\n",
            "600 Cost:  8.307734 \n",
            "Prediction:\n",
            " [155.83418 181.70876 181.87865 196.81267 138.5626 ]\n",
            "800 Cost:  7.4697633 \n",
            "Prediction:\n",
            " [155.61711 181.8574  181.81197 196.76578 138.75658]\n",
            "1000 Cost:  6.7178574 \n",
            "Prediction:\n",
            " [155.4115  181.99826 181.7488  196.7214  138.94029]\n",
            "1200 Cost:  6.043126 \n",
            "Prediction:\n",
            " [155.21666 182.1317  181.68892 196.67943 139.11426]\n",
            "1400 Cost:  5.437696 \n",
            "Prediction:\n",
            " [155.03209 182.25809 181.63217 196.6397  139.27904]\n",
            "1600 Cost:  4.894478 \n",
            "Prediction:\n",
            " [154.85722 182.37784 181.57845 196.60216 139.43507]\n",
            "1800 Cost:  4.407046 \n",
            "Prediction:\n",
            " [154.69156 182.49127 181.5275  196.5666  139.58282]\n",
            "2000 Cost:  3.9696808 \n",
            "Prediction:\n",
            " [154.5346  182.59872 181.47923 196.53302 139.72276]\n"
          ],
          "name": "stdout"
        }
      ]
    },
    {
      "cell_type": "code",
      "metadata": {
        "id": "bJ4WiCaVg7EQ",
        "colab_type": "code",
        "colab": {
          "base_uri": "https://localhost:8080/",
          "height": 1000
        },
        "outputId": "1fb7dd04-571c-43c3-9f81-daf3d804b061"
      },
      "source": [
        "import tensorflow as tf\n",
        "tf.set_random_seed(777)  # for reproducibility\n",
        "\n",
        "x_data = [[73., 80., 75.],\n",
        "          [93., 88., 93.],\n",
        "          [89., 91., 90.],\n",
        "          [96., 98., 100.],\n",
        "          [73., 66., 70.]]\n",
        "y_data = [[152.],\n",
        "          [185.],\n",
        "          [180.],\n",
        "          [196.],\n",
        "          [142.]]\n",
        "\n",
        "\n",
        "# placeholders for a tensor that will be always fed.\n",
        "X = tf.placeholder(tf.float32, shape=[None, 3])\n",
        "Y = tf.placeholder(tf.float32, shape=[None, 1])\n",
        "\n",
        "W = tf.Variable(tf.random_normal([3, 1]), name='weight')\n",
        "b = tf.Variable(tf.random_normal([1]), name='bias')\n",
        "\n",
        "# Hypothesis\n",
        "hypothesis = tf.matmul(X, W) + b\n",
        "\n",
        "# Simplified cost/loss function\n",
        "cost = tf.reduce_mean(tf.square(hypothesis - Y))\n",
        "\n",
        "# Minimize\n",
        "optimizer = tf.train.GradientDescentOptimizer(learning_rate=1e-5)\n",
        "train = optimizer.minimize(cost)\n",
        "\n",
        "# Launch the graph in a session.\n",
        "sess = tf.Session()\n",
        "# Initializes global variables in the graph.\n",
        "sess.run(tf.global_variables_initializer())\n",
        "\n",
        "for step in range(2001):\n",
        "    cost_val, hy_val, _ = sess.run(\n",
        "        [cost, hypothesis, train], feed_dict={X: x_data, Y: y_data})\n",
        "    if step % 200 == 0:\n",
        "        print(step, \"Cost: \", cost_val, \"\\nPrediction:\\n\", hy_val)"
      ],
      "execution_count": 22,
      "outputs": [
        {
          "output_type": "stream",
          "text": [
            "0 Cost:  45719.477 \n",
            "Prediction:\n",
            " [[337.9183 ]\n",
            " [414.6525 ]\n",
            " [403.92352]\n",
            " [442.52728]\n",
            " [316.2815 ]]\n",
            "200 Cost:  4.0098658 \n",
            "Prediction:\n",
            " [[148.3195 ]\n",
            " [186.55103]\n",
            " [179.28569]\n",
            " [197.87529]\n",
            " [142.2658 ]]\n",
            "400 Cost:  3.7966397 \n",
            "Prediction:\n",
            " [[148.42982]\n",
            " [186.47675]\n",
            " [179.32121]\n",
            " [197.88766]\n",
            " [142.17955]]\n",
            "600 Cost:  3.6035485 \n",
            "Prediction:\n",
            " [[148.53464]\n",
            " [186.40627]\n",
            " [179.35504]\n",
            " [197.8989 ]\n",
            " [142.09822]]\n",
            "800 Cost:  3.4285374 \n",
            "Prediction:\n",
            " [[148.63419]\n",
            " [186.33934]\n",
            " [179.38724]\n",
            " [197.90898]\n",
            " [142.02155]]\n",
            "1000 Cost:  3.2697773 \n",
            "Prediction:\n",
            " [[148.72879]\n",
            " [186.27582]\n",
            " [179.41791]\n",
            " [197.91806]\n",
            " [141.94926]]\n",
            "1200 Cost:  3.1255946 \n",
            "Prediction:\n",
            " [[148.81871]\n",
            " [186.21553]\n",
            " [179.44716]\n",
            " [197.92616]\n",
            " [141.88118]]\n",
            "1400 Cost:  2.994541 \n",
            "Prediction:\n",
            " [[148.90413]\n",
            " [186.15826]\n",
            " [179.475  ]\n",
            " [197.93329]\n",
            " [141.817  ]]\n",
            "1600 Cost:  2.875238 \n",
            "Prediction:\n",
            " [[148.98537]\n",
            " [186.1039 ]\n",
            " [179.50156]\n",
            " [197.93956]\n",
            " [141.75659]]\n",
            "1800 Cost:  2.7665665 \n",
            "Prediction:\n",
            " [[149.06256]\n",
            " [186.05226]\n",
            " [179.52687]\n",
            " [197.94499]\n",
            " [141.69969]]\n",
            "2000 Cost:  2.667367 \n",
            "Prediction:\n",
            " [[149.136  ]\n",
            " [186.00322]\n",
            " [179.55103]\n",
            " [197.94965]\n",
            " [141.64616]]\n"
          ],
          "name": "stdout"
        }
      ]
    },
    {
      "cell_type": "markdown",
      "metadata": {
        "id": "2AvrxRn6hcVV",
        "colab_type": "text"
      },
      "source": [
        "## Logistic classification\n",
        "\n",
        "-> linear regresion으로 쓰면 문제가 있음\n",
        "\n",
        "-> 0과 1로만 분류하기 때문에 아무리 큰 값이 들어와도 y는 1보다 클 수 없음\n",
        "\n",
        "-> 0 ~ 1 사이로 출력할 수 있는 함수가 필요함\n",
        "\n",
        "-> sigmoid function (logistic function)\n",
        "\n",
        "## Cost function\n",
        "\n",
        "-> linear regression으로 가설을 세웠을 때의 cost function 같이 2차원 모양의 곡선이 아님\n",
        "\n",
        "-> 울퉁불퉁한 곡선의 형태기 때문에 시작하는 점에 따라서 global minimum이 아니라 local minimum을 찾을 수 있음\n",
        "\n",
        "-> 따라서 gradient descent algorithm 사용 불가"
      ]
    }
  ]
}